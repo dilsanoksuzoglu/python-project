{
 "cells": [
  {
   "cell_type": "markdown",
   "id": "6729147b",
   "metadata": {},
   "source": [
    "# Moving to the East from London"
   ]
  },
  {
   "cell_type": "markdown",
   "id": "796bd244",
   "metadata": {},
   "source": [
    "In this project we are creating a path around the world starting from London. It is only possible to move to one of the three cities that are closest to the current city in our dataset. The main aim is to reach to the easternmost city that is reachable following the given restrictions of movement. At the end, we calculated the total time spent to go to the easternmost city from London. \n",
    "For this purpose, initially we call our classes to import our functions required to process the data and return us the information we need."
   ]
  },
  {
   "cell_type": "code",
   "execution_count": 1,
   "id": "5f76ba7e",
   "metadata": {},
   "outputs": [],
   "source": [
    "from classes import CityPreprocessor, DistanceCalculator, CostCalculator, RouteCalculator, EastestCityFinder, PlotMaker\n",
    "import pandas as pd\n",
    "import numpy as np"
   ]
  },
  {
   "cell_type": "markdown",
   "id": "d430098d",
   "metadata": {},
   "source": [
    "The information about the cities is stored in an excell file and it is preprocesseed by defining instance of the CityPreprocessor class and by using load_and_preprocess_data function. Output data is read excell data without the cities with latitude values above 30 for simplicity; which contained and sorted by the relative distances of each city to London. \n",
    "The data at the end is randomly sampled to enable easier processing of the sampled data with length 500. "
   ]
  },
  {
   "cell_type": "markdown",
   "id": "0736d08d",
   "metadata": {},
   "source": [
    "Then we define the instances to other classes created (DistanceCalculator, CostCalculator, RouteCalculator, EastestCityFinder, PlotMaker). \n",
    "DistanceCalculator class is responsible of the calculation of Haversine distances, the shortest distance between two cities on the surface of the Earth. \n",
    "CostCalculator class is defined for calculations of the cost of going to each city in terms of hours. The calculations were done based on the following assumptions: it takes 2 hours to reach the first, 4 hours to reach the second, and 8 hours to reach to the third closest city to the current location. Also, following parameters were taken into account: if the population of the arrival city is over 200.000, and/or if we have to change the countury to arrive to the next city, it takes additional 2 hours to get there for each condition that applies. "
   ]
  },
  {
   "cell_type": "code",
   "execution_count": 2,
   "id": "f54de5e1",
   "metadata": {},
   "outputs": [],
   "source": [
    "excel_path = r'C:\\Users\\Dilsan\\Desktop\\Coding for Data Science and Data Management\\Python\\Project\\worldcities.xlsx'\n",
    "london_lat = 51.5072\n",
    "london_lng = -0.1275\n",
    "\n",
    "city_preprocessor = CityPreprocessor(excel_path, london_lat, london_lng)\n",
    "preprocessed_data = city_preprocessor.load_and_preprocess_data()\n",
    "\n",
    "\n",
    "dc = DistanceCalculator()\n",
    "cc = CostCalculator()\n",
    "rc = RouteCalculator(preprocessed_data,cc,dc)\n",
    "ecf = EastestCityFinder()\n",
    "pm = PlotMaker()\n",
    "info_cities = rc.calculate_route()\n",
    "result = ecf.go_most_east(info_cities)"
   ]
  },
  {
   "cell_type": "code",
   "execution_count": 3,
   "id": "37da4b26",
   "metadata": {},
   "outputs": [
    {
     "data": {
      "text/html": [
       "<div>\n",
       "<style scoped>\n",
       "    .dataframe tbody tr th:only-of-type {\n",
       "        vertical-align: middle;\n",
       "    }\n",
       "\n",
       "    .dataframe tbody tr th {\n",
       "        vertical-align: top;\n",
       "    }\n",
       "\n",
       "    .dataframe thead th {\n",
       "        text-align: right;\n",
       "    }\n",
       "</style>\n",
       "<table border=\"1\" class=\"dataframe\">\n",
       "  <thead>\n",
       "    <tr style=\"text-align: right;\">\n",
       "      <th></th>\n",
       "      <th>city_name</th>\n",
       "      <th>city_ascii</th>\n",
       "      <th>lat</th>\n",
       "      <th>lng</th>\n",
       "      <th>country</th>\n",
       "      <th>iso2</th>\n",
       "      <th>iso3</th>\n",
       "      <th>admin_name</th>\n",
       "      <th>capital</th>\n",
       "      <th>population</th>\n",
       "      <th>city_id</th>\n",
       "      <th>distance_km</th>\n",
       "    </tr>\n",
       "  </thead>\n",
       "  <tbody>\n",
       "    <tr>\n",
       "      <th>0</th>\n",
       "      <td>London</td>\n",
       "      <td>London</td>\n",
       "      <td>51.5072</td>\n",
       "      <td>-0.1275</td>\n",
       "      <td>United Kingdom</td>\n",
       "      <td>GB</td>\n",
       "      <td>GBR</td>\n",
       "      <td>London, City of</td>\n",
       "      <td>primary</td>\n",
       "      <td>10979000.0</td>\n",
       "      <td>1826645935</td>\n",
       "      <td>0.000000</td>\n",
       "    </tr>\n",
       "    <tr>\n",
       "      <th>1</th>\n",
       "      <td>East Finchley</td>\n",
       "      <td>East Finchley</td>\n",
       "      <td>51.5902</td>\n",
       "      <td>-0.1753</td>\n",
       "      <td>United Kingdom</td>\n",
       "      <td>GB</td>\n",
       "      <td>GBR</td>\n",
       "      <td>Barnet</td>\n",
       "      <td>NaN</td>\n",
       "      <td>15989.0</td>\n",
       "      <td>1826180591</td>\n",
       "      <td>9.803167</td>\n",
       "    </tr>\n",
       "    <tr>\n",
       "      <th>2</th>\n",
       "      <td>Kenton</td>\n",
       "      <td>Kenton</td>\n",
       "      <td>51.5878</td>\n",
       "      <td>-0.3086</td>\n",
       "      <td>United Kingdom</td>\n",
       "      <td>GB</td>\n",
       "      <td>GBR</td>\n",
       "      <td>Brent</td>\n",
       "      <td>NaN</td>\n",
       "      <td>35600.0</td>\n",
       "      <td>1826411445</td>\n",
       "      <td>15.399424</td>\n",
       "    </tr>\n",
       "    <tr>\n",
       "      <th>3</th>\n",
       "      <td>Sidcup</td>\n",
       "      <td>Sidcup</td>\n",
       "      <td>51.4263</td>\n",
       "      <td>0.1024</td>\n",
       "      <td>United Kingdom</td>\n",
       "      <td>GB</td>\n",
       "      <td>GBR</td>\n",
       "      <td>Bexley</td>\n",
       "      <td>NaN</td>\n",
       "      <td>43109.0</td>\n",
       "      <td>1826363364</td>\n",
       "      <td>18.290429</td>\n",
       "    </tr>\n",
       "    <tr>\n",
       "      <th>4</th>\n",
       "      <td>Borehamwood</td>\n",
       "      <td>Borehamwood</td>\n",
       "      <td>51.6578</td>\n",
       "      <td>-0.2723</td>\n",
       "      <td>United Kingdom</td>\n",
       "      <td>GB</td>\n",
       "      <td>GBR</td>\n",
       "      <td>Hertfordshire</td>\n",
       "      <td>NaN</td>\n",
       "      <td>31955.0</td>\n",
       "      <td>1826433403</td>\n",
       "      <td>19.507078</td>\n",
       "    </tr>\n",
       "    <tr>\n",
       "      <th>...</th>\n",
       "      <td>...</td>\n",
       "      <td>...</td>\n",
       "      <td>...</td>\n",
       "      <td>...</td>\n",
       "      <td>...</td>\n",
       "      <td>...</td>\n",
       "      <td>...</td>\n",
       "      <td>...</td>\n",
       "      <td>...</td>\n",
       "      <td>...</td>\n",
       "      <td>...</td>\n",
       "      <td>...</td>\n",
       "    </tr>\n",
       "    <tr>\n",
       "      <th>495</th>\n",
       "      <td>Tsukuba-kenkyūgakuen-toshi</td>\n",
       "      <td>Tsukuba-kenkyugakuen-toshi</td>\n",
       "      <td>36.0333</td>\n",
       "      <td>140.0667</td>\n",
       "      <td>Japan</td>\n",
       "      <td>JP</td>\n",
       "      <td>JPN</td>\n",
       "      <td>Ibaraki</td>\n",
       "      <td>NaN</td>\n",
       "      <td>240987.0</td>\n",
       "      <td>1392112466</td>\n",
       "      <td>9537.255861</td>\n",
       "    </tr>\n",
       "    <tr>\n",
       "      <th>496</th>\n",
       "      <td>Hokota</td>\n",
       "      <td>Hokota</td>\n",
       "      <td>36.1586</td>\n",
       "      <td>140.5164</td>\n",
       "      <td>Japan</td>\n",
       "      <td>JP</td>\n",
       "      <td>JPN</td>\n",
       "      <td>Ibaraki</td>\n",
       "      <td>NaN</td>\n",
       "      <td>46415.0</td>\n",
       "      <td>1392374973</td>\n",
       "      <td>9540.539550</td>\n",
       "    </tr>\n",
       "    <tr>\n",
       "      <th>497</th>\n",
       "      <td>Kashima</td>\n",
       "      <td>Kashima</td>\n",
       "      <td>35.9658</td>\n",
       "      <td>140.6450</td>\n",
       "      <td>Japan</td>\n",
       "      <td>JP</td>\n",
       "      <td>JPN</td>\n",
       "      <td>Ibaraki</td>\n",
       "      <td>NaN</td>\n",
       "      <td>67448.0</td>\n",
       "      <td>1392346235</td>\n",
       "      <td>9564.800984</td>\n",
       "    </tr>\n",
       "    <tr>\n",
       "      <th>498</th>\n",
       "      <td>Matsuda-sōryō</td>\n",
       "      <td>Matsuda-soryo</td>\n",
       "      <td>35.3483</td>\n",
       "      <td>139.1394</td>\n",
       "      <td>Japan</td>\n",
       "      <td>JP</td>\n",
       "      <td>JPN</td>\n",
       "      <td>Kanagawa</td>\n",
       "      <td>NaN</td>\n",
       "      <td>10884.0</td>\n",
       "      <td>1392523691</td>\n",
       "      <td>9573.176980</td>\n",
       "    </tr>\n",
       "    <tr>\n",
       "      <th>499</th>\n",
       "      <td>Katsuura</td>\n",
       "      <td>Katsuura</td>\n",
       "      <td>35.1525</td>\n",
       "      <td>140.3211</td>\n",
       "      <td>Japan</td>\n",
       "      <td>JP</td>\n",
       "      <td>JPN</td>\n",
       "      <td>Chiba</td>\n",
       "      <td>NaN</td>\n",
       "      <td>17324.0</td>\n",
       "      <td>1392044206</td>\n",
       "      <td>9636.254742</td>\n",
       "    </tr>\n",
       "  </tbody>\n",
       "</table>\n",
       "<p>500 rows × 12 columns</p>\n",
       "</div>"
      ],
      "text/plain": [
       "                      city_name                  city_ascii      lat  \\\n",
       "0                        London                      London  51.5072   \n",
       "1                 East Finchley               East Finchley  51.5902   \n",
       "2                        Kenton                      Kenton  51.5878   \n",
       "3                        Sidcup                      Sidcup  51.4263   \n",
       "4                   Borehamwood                 Borehamwood  51.6578   \n",
       "..                          ...                         ...      ...   \n",
       "495  Tsukuba-kenkyūgakuen-toshi  Tsukuba-kenkyugakuen-toshi  36.0333   \n",
       "496                      Hokota                      Hokota  36.1586   \n",
       "497                     Kashima                     Kashima  35.9658   \n",
       "498               Matsuda-sōryō               Matsuda-soryo  35.3483   \n",
       "499                    Katsuura                    Katsuura  35.1525   \n",
       "\n",
       "          lng         country iso2 iso3       admin_name  capital  population  \\\n",
       "0     -0.1275  United Kingdom   GB  GBR  London, City of  primary  10979000.0   \n",
       "1     -0.1753  United Kingdom   GB  GBR           Barnet      NaN     15989.0   \n",
       "2     -0.3086  United Kingdom   GB  GBR            Brent      NaN     35600.0   \n",
       "3      0.1024  United Kingdom   GB  GBR           Bexley      NaN     43109.0   \n",
       "4     -0.2723  United Kingdom   GB  GBR    Hertfordshire      NaN     31955.0   \n",
       "..        ...             ...  ...  ...              ...      ...         ...   \n",
       "495  140.0667           Japan   JP  JPN          Ibaraki      NaN    240987.0   \n",
       "496  140.5164           Japan   JP  JPN          Ibaraki      NaN     46415.0   \n",
       "497  140.6450           Japan   JP  JPN          Ibaraki      NaN     67448.0   \n",
       "498  139.1394           Japan   JP  JPN         Kanagawa      NaN     10884.0   \n",
       "499  140.3211           Japan   JP  JPN            Chiba      NaN     17324.0   \n",
       "\n",
       "        city_id  distance_km  \n",
       "0    1826645935     0.000000  \n",
       "1    1826180591     9.803167  \n",
       "2    1826411445    15.399424  \n",
       "3    1826363364    18.290429  \n",
       "4    1826433403    19.507078  \n",
       "..          ...          ...  \n",
       "495  1392112466  9537.255861  \n",
       "496  1392374973  9540.539550  \n",
       "497  1392346235  9564.800984  \n",
       "498  1392523691  9573.176980  \n",
       "499  1392044206  9636.254742  \n",
       "\n",
       "[500 rows x 12 columns]"
      ]
     },
     "execution_count": 3,
     "metadata": {},
     "output_type": "execute_result"
    }
   ],
   "source": [
    "preprocessed_data"
   ]
  },
  {
   "cell_type": "markdown",
   "id": "b02cb58e",
   "metadata": {},
   "source": [
    "The info_cities dictionary is created by the RouteCalculator class. The key values of the dictionary are the city ids, and the dictionary contains the following information about the three closest city to the key city; the city_names, city_ids, city_distances, city_latitudes, city_longitudes, city_populations, city_countries, city_total_cost. These information are then utilized to optimize the route cost to the east."
   ]
  },
  {
   "cell_type": "code",
   "execution_count": 12,
   "id": "85c56437",
   "metadata": {},
   "outputs": [
    {
     "data": {
      "text/plain": [
       "1826645935    {'city_names': ['East Finchley', 'Kenton', 'Si...\n",
       "1826180591    {'city_names': ['Kenton', 'London', 'Borehamwo...\n",
       "1826411445    {'city_names': ['Borehamwood', 'East Finchley'...\n",
       "1826363364    {'city_names': ['Swanscombe', 'Northfleet', 'L...\n",
       "1826433403    {'city_names': ['Kenton', 'East Finchley', 'Go...\n",
       "1826459935    {'city_names': ['Borehamwood', 'East Finchley'...\n",
       "1826455512    {'city_names': ['Kenton', 'Marlow', 'Great Boo...\n",
       "1826018472    {'city_names': ['Northfleet', 'Stanford le Hop...\n",
       "1826910231    {'city_names': ['Colnbrook', 'London', 'Kenton...\n",
       "1826633103    {'city_names': ['Swanscombe', 'Stanford le Hop...\n",
       "dtype: object"
      ]
     },
     "execution_count": 12,
     "metadata": {},
     "output_type": "execute_result"
    }
   ],
   "source": [
    "pd.Series(info_cities).head(10)\n"
   ]
  },
  {
   "cell_type": "markdown",
   "id": "22d0f880",
   "metadata": {},
   "source": [
    "The result dictionary is returned by EastestCityFinder class which takes as an input the info_cities dictionary to find the city that is located at the easternmost location among the three nearest cities of the cities and repeats this operation for each city keys. Once the easternmost city indexes are collected they are used to find the country_city names (as key values), and their corresponding latitude and longitude values, and they are assigned to a dictionary called result. This dictionary gives us the whole path around the world to the East, starting from London to the last reachable point by following the easternmost cities among the three nearest cities.  "
   ]
  },
  {
   "cell_type": "code",
   "execution_count": 13,
   "id": "efbb2931",
   "metadata": {},
   "outputs": [
    {
     "data": {
      "text/plain": [
       "United Kingdom_Sidcup               (51.4263, 0.1024)\n",
       "United Kingdom_London              (51.5072, -0.1275)\n",
       "United Kingdom_Northfleet               (51.44, 0.34)\n",
       "United Kingdom_Goffs Oak           (51.7109, -0.0825)\n",
       "United Kingdom_East Finchley       (51.5902, -0.1753)\n",
       "United Kingdom_Kenton              (51.5878, -0.3086)\n",
       "United Kingdom_Strood                 (51.393, 0.478)\n",
       "United Kingdom_Stanford le Hope      (51.514, 0.4244)\n",
       "United Kingdom_Borehamwood         (51.6578, -0.2723)\n",
       "United Kingdom_Sawston              (52.1247, 0.1731)\n",
       "dtype: object"
      ]
     },
     "execution_count": 13,
     "metadata": {},
     "output_type": "execute_result"
    }
   ],
   "source": [
    "pd.Series(result).head(10)"
   ]
  },
  {
   "cell_type": "markdown",
   "id": "c5ea815a",
   "metadata": {},
   "source": [
    "The total time it takes to complete this path following these route restrictions turned out to be 115 days."
   ]
  },
  {
   "cell_type": "code",
   "execution_count": 14,
   "id": "e7b555f9",
   "metadata": {},
   "outputs": [
    {
     "data": {
      "text/plain": [
       "115.0"
      ]
     },
     "execution_count": 14,
     "metadata": {},
     "output_type": "execute_result"
    }
   ],
   "source": [
    "(ecf.total_cost)/24"
   ]
  },
  {
   "cell_type": "markdown",
   "id": "8f0f01c7",
   "metadata": {},
   "source": [
    "Here we can also see how many cities are visited per country while following this path. The bar plot is returned by the cities_plot function in PlotMaker class."
   ]
  },
  {
   "cell_type": "code",
   "execution_count": 15,
   "id": "d5752bf2",
   "metadata": {},
   "outputs": [
    {
     "data": {
      "image/png": "[encoded data removed]",
      "text/plain": [
       "<Figure size 1200x600 with 1 Axes>"
      ]
     },
     "metadata": {},
     "output_type": "display_data"
    }
   ],
   "source": [
    "pm = PlotMaker()\n",
    "pm.cities_plot(ecf.city_and_country)\n"
   ]
  },
  {
   "cell_type": "markdown",
   "id": "da0b0c48",
   "metadata": {},
   "source": [
    "Lastly, we write the dictionary (result) to a JSON file, 'result_dict.json' and assigning the result of json.dump to the variable json_path. Making the json file available json_path json file for Streamlit application. "
   ]
  },
  {
   "cell_type": "code",
   "execution_count": 16,
   "id": "a4c8589b",
   "metadata": {},
   "outputs": [],
   "source": [
    "#open dictionary of results in write mode: countries_cities, coordinates\n",
    "import json\n",
    "with open('result_dict.json', 'w') as json_file:\n",
    "    json_path = json.dump(result, json_file)"
   ]
  },
  {
   "cell_type": "markdown",
   "id": "a45aa1c2",
   "metadata": {},
   "source": [
    "We can now run RunStreamlit class to visualize our interactive map on the web app. "
   ]
  }
 ],
 "metadata": {
  "kernelspec": {
   "display_name": "Python 3 (ipykernel)",
   "language": "python",
   "name": "python3"
  },
  "language_info": {
   "codemirror_mode": {
    "name": "ipython",
    "version": 3
   },
   "file_extension": ".py",
   "mimetype": "text/x-python",
   "name": "python",
   "nbconvert_exporter": "python",
   "pygments_lexer": "ipython3",
   "version": "3.10.9"
  }
 },
 "nbformat": 4,
 "nbformat_minor": 5
}
